{
 "cells": [
  {
   "cell_type": "code",
   "execution_count": 1,
   "metadata": {},
   "outputs": [],
   "source": [
    "import pandas as pd"
   ]
  },
  {
   "cell_type": "code",
   "execution_count": 6,
   "metadata": {},
   "outputs": [],
   "source": [
    "col_names = ['id',\n",
    "            'campaign_inbox_id',\n",
    "            'lalvoterid',\n",
    "            'first_name',\n",
    "            'last_name',\n",
    "            'address',\n",
    "            'city',\n",
    "            'state',\n",
    "            'zip',\n",
    "            'republican_donor',\n",
    "            'cell_phone',\n",
    "            'email',\n",
    "            'original_source',\n",
    "            'dob_day',\n",
    "            'dob_month',\n",
    "            'dob_year',\n",
    "            'append_source',\n",
    "            'append_status',\n",
    "            'last_donation',\n",
    "            'address_2']\n",
    "\n",
    "tx = pd.read_csv('../csv/tx_append_data.csv')#, \n",
    "#             header = None, \n",
    "#             names = col_names)\n",
    "\n",
    "fl = pd.read_csv('../csv/fl_append_data.csv')#, \n",
    "#             header = None, \n",
    "#             names = col_names)"
   ]
  },
  {
   "cell_type": "code",
   "execution_count": 10,
   "metadata": {},
   "outputs": [
    {
     "data": {
      "text/plain": [
       "(100000, 20)"
      ]
     },
     "execution_count": 10,
     "metadata": {},
     "output_type": "execute_result"
    }
   ],
   "source": [
    "tx.shape"
   ]
  },
  {
   "cell_type": "code",
   "execution_count": 8,
   "metadata": {},
   "outputs": [],
   "source": [
    "datafinder = fl[     :25000].append(tx[     :25000])\n",
    "datazap    = fl[25000:50000].append(tx[25000:50000])\n",
    "stirista   = fl[50000:75000].append(tx[50000:75000])\n",
    "l2         = fl[75000:     ].append(tx[75000:     ])"
   ]
  },
  {
   "cell_type": "code",
   "execution_count": 11,
   "metadata": {},
   "outputs": [],
   "source": [
    "datafinder['append_source'] = 'datafinder'\n",
    "datazap['append_source']    = 'datazap'\n",
    "stirista['append_source']   = 'stirista'\n",
    "l2['append_source']         = 'l2'"
   ]
  },
  {
   "cell_type": "code",
   "execution_count": 12,
   "metadata": {},
   "outputs": [],
   "source": [
    "datafinder.to_csv('../csv/datafinder_append_data.csv', index = False, )\n",
    "datazap.to_csv('../csv/datazap_append_data.csv', index = False, )\n",
    "stirista.to_csv('../csv/stirista_append_data.csv', index = False)\n",
    "l2.to_csv('../csv/l2_append_data.csv', index = False, )"
   ]
  },
  {
   "cell_type": "code",
   "execution_count": null,
   "metadata": {},
   "outputs": [],
   "source": []
  },
  {
   "cell_type": "code",
   "execution_count": null,
   "metadata": {},
   "outputs": [],
   "source": []
  }
 ],
 "metadata": {
  "kernelspec": {
   "display_name": "Python 3",
   "language": "python",
   "name": "python3"
  },
  "language_info": {
   "codemirror_mode": {
    "name": "ipython",
    "version": 3
   },
   "file_extension": ".py",
   "mimetype": "text/x-python",
   "name": "python",
   "nbconvert_exporter": "python",
   "pygments_lexer": "ipython3",
   "version": "3.7.6"
  }
 },
 "nbformat": 4,
 "nbformat_minor": 4
}
