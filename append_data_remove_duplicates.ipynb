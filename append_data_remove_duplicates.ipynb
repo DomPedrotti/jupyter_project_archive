{
 "cells": [
  {
   "cell_type": "code",
   "execution_count": 1,
   "metadata": {},
   "outputs": [],
   "source": [
    "import pandas as pd\n",
    "from sqlalchemy import create_engine\n",
    "\n",
    "import sys\n",
    "sys.path.append('../PyScripts/')\n",
    "from falcon_env import get_url"
   ]
  },
  {
   "cell_type": "code",
   "execution_count": 3,
   "metadata": {},
   "outputs": [],
   "source": [
    "pa = pd.read_csv('../csv/pa_donors_append_20210614.csv')"
   ]
  },
  {
   "cell_type": "code",
   "execution_count": 4,
   "metadata": {},
   "outputs": [],
   "source": [
    "resend = pd.read_csv('../csv/append_data_resend_20210604.csv')"
   ]
  },
  {
   "cell_type": "code",
   "execution_count": 5,
   "metadata": {},
   "outputs": [
    {
     "data": {
      "text/plain": [
       "0          LALNC97418531\n",
       "1         LALFL397537332\n",
       "2           LALPA8212496\n",
       "3         LALWI122515150\n",
       "4         LALMA161586251\n",
       "               ...      \n",
       "211760     LALCA27975446\n",
       "211761     LALCA24642435\n",
       "211762     LALCA23162063\n",
       "211763     LALCA17804209\n",
       "211764     LALCA27508568\n",
       "Name: lalvoterid, Length: 211765, dtype: object"
      ]
     },
     "execution_count": 5,
     "metadata": {},
     "output_type": "execute_result"
    }
   ],
   "source": [
    "resend.lalvoterid"
   ]
  },
  {
   "cell_type": "code",
   "execution_count": 6,
   "metadata": {},
   "outputs": [
    {
     "data": {
      "text/plain": [
       "(133441, 11)"
      ]
     },
     "execution_count": 6,
     "metadata": {},
     "output_type": "execute_result"
    }
   ],
   "source": [
    "pa[~pa.lalvoterid.isin(resend.lalvoterid)].shape"
   ]
  },
  {
   "cell_type": "code",
   "execution_count": null,
   "metadata": {},
   "outputs": [],
   "source": [
    "pa[~pa.lalvoterid.isin(resend.lalvoterid)].to_csv('../csv/pa_data_for_append.csv', index = False)"
   ]
  },
  {
   "cell_type": "code",
   "execution_count": null,
   "metadata": {},
   "outputs": [],
   "source": []
  },
  {
   "cell_type": "code",
   "execution_count": 3,
   "metadata": {},
   "outputs": [],
   "source": [
    "mi = pd.read_csv('../csv/mi_donors_append_20210615.csv')"
   ]
  },
  {
   "cell_type": "code",
   "execution_count": 5,
   "metadata": {},
   "outputs": [
    {
     "data": {
      "text/plain": [
       "(219605, 11)"
      ]
     },
     "execution_count": 5,
     "metadata": {},
     "output_type": "execute_result"
    }
   ],
   "source": [
    "mi.shape"
   ]
  },
  {
   "cell_type": "code",
   "execution_count": 4,
   "metadata": {},
   "outputs": [],
   "source": [
    "resend = pd.read_csv('../csv/append_data_resend_20210604.csv')"
   ]
  },
  {
   "cell_type": "code",
   "execution_count": 6,
   "metadata": {},
   "outputs": [],
   "source": [
    "mi = mi[~mi.lalvoterid.isin(resend.lalvoterid)]"
   ]
  },
  {
   "cell_type": "code",
   "execution_count": 7,
   "metadata": {},
   "outputs": [
    {
     "data": {
      "text/plain": [
       "(219374, 11)"
      ]
     },
     "execution_count": 7,
     "metadata": {},
     "output_type": "execute_result"
    }
   ],
   "source": [
    "mi.shape"
   ]
  },
  {
   "cell_type": "code",
   "execution_count": 14,
   "metadata": {},
   "outputs": [
    {
     "data": {
      "text/html": [
       "<div>\n",
       "<style scoped>\n",
       "    .dataframe tbody tr th:only-of-type {\n",
       "        vertical-align: middle;\n",
       "    }\n",
       "\n",
       "    .dataframe tbody tr th {\n",
       "        vertical-align: top;\n",
       "    }\n",
       "\n",
       "    .dataframe thead th {\n",
       "        text-align: right;\n",
       "    }\n",
       "</style>\n",
       "<table border=\"1\" class=\"dataframe\">\n",
       "  <thead>\n",
       "    <tr style=\"text-align: right;\">\n",
       "      <th></th>\n",
       "      <th>fname</th>\n",
       "      <th>lname</th>\n",
       "      <th>primary_address</th>\n",
       "      <th>city_name</th>\n",
       "      <th>state</th>\n",
       "      <th>zip_code</th>\n",
       "      <th>dob_yr</th>\n",
       "      <th>dob_mon</th>\n",
       "      <th>lalvoterid</th>\n",
       "      <th>individual_id</th>\n",
       "      <th>donor_score</th>\n",
       "    </tr>\n",
       "  </thead>\n",
       "  <tbody>\n",
       "    <tr>\n",
       "      <th>137</th>\n",
       "      <td>HILKKA</td>\n",
       "      <td>STALKER</td>\n",
       "      <td>2131 CENTURY PARK LN</td>\n",
       "      <td>LOS ANGELES</td>\n",
       "      <td>CA</td>\n",
       "      <td>90067</td>\n",
       "      <td>1925</td>\n",
       "      <td>4</td>\n",
       "      <td>LALCA290396</td>\n",
       "      <td>189601217</td>\n",
       "      <td>0.643074</td>\n",
       "    </tr>\n",
       "    <tr>\n",
       "      <th>138</th>\n",
       "      <td>RICHARD</td>\n",
       "      <td>HOPPE</td>\n",
       "      <td>1522 SEACREST DR</td>\n",
       "      <td>CORONA DEL MAR</td>\n",
       "      <td>CA</td>\n",
       "      <td>92625</td>\n",
       "      <td>1947</td>\n",
       "      <td>9</td>\n",
       "      <td>LALCA18028378</td>\n",
       "      <td>198460115</td>\n",
       "      <td>0.642344</td>\n",
       "    </tr>\n",
       "    <tr>\n",
       "      <th>139</th>\n",
       "      <td>MARILOU</td>\n",
       "      <td>REYES</td>\n",
       "      <td>2254 MINDEN WAY</td>\n",
       "      <td>SACRAMENTO</td>\n",
       "      <td>CA</td>\n",
       "      <td>95835</td>\n",
       "      <td>1940</td>\n",
       "      <td>9</td>\n",
       "      <td>LALCA19317392</td>\n",
       "      <td>543836782</td>\n",
       "      <td>0.641057</td>\n",
       "    </tr>\n",
       "    <tr>\n",
       "      <th>141</th>\n",
       "      <td>ANNETTA</td>\n",
       "      <td>ROSENSTEIN</td>\n",
       "      <td>949 KEY AVE</td>\n",
       "      <td>SAN FRANCISCO</td>\n",
       "      <td>CA</td>\n",
       "      <td>94124</td>\n",
       "      <td>1949</td>\n",
       "      <td>2</td>\n",
       "      <td>LALCA400822307</td>\n",
       "      <td>541877134</td>\n",
       "      <td>0.640410</td>\n",
       "    </tr>\n",
       "    <tr>\n",
       "      <th>143</th>\n",
       "      <td>DEREK</td>\n",
       "      <td>REISFIELD</td>\n",
       "      <td>50 SCENIC WAY</td>\n",
       "      <td>SAN FRANCISCO</td>\n",
       "      <td>CA</td>\n",
       "      <td>94121</td>\n",
       "      <td>1963</td>\n",
       "      <td>0</td>\n",
       "      <td>LALCA25421788</td>\n",
       "      <td>203681742</td>\n",
       "      <td>0.640233</td>\n",
       "    </tr>\n",
       "  </tbody>\n",
       "</table>\n",
       "</div>"
      ],
      "text/plain": [
       "       fname       lname       primary_address       city_name state  \\\n",
       "137   HILKKA     STALKER  2131 CENTURY PARK LN     LOS ANGELES    CA   \n",
       "138  RICHARD       HOPPE      1522 SEACREST DR  CORONA DEL MAR    CA   \n",
       "139  MARILOU       REYES       2254 MINDEN WAY      SACRAMENTO    CA   \n",
       "141  ANNETTA  ROSENSTEIN           949 KEY AVE   SAN FRANCISCO    CA   \n",
       "143    DEREK   REISFIELD         50 SCENIC WAY   SAN FRANCISCO    CA   \n",
       "\n",
       "     zip_code  dob_yr  dob_mon      lalvoterid  individual_id  donor_score  \n",
       "137     90067    1925        4     LALCA290396      189601217     0.643074  \n",
       "138     92625    1947        9   LALCA18028378      198460115     0.642344  \n",
       "139     95835    1940        9   LALCA19317392      543836782     0.641057  \n",
       "141     94124    1949        2  LALCA400822307      541877134     0.640410  \n",
       "143     94121    1963        0   LALCA25421788      203681742     0.640233  "
      ]
     },
     "execution_count": 14,
     "metadata": {},
     "output_type": "execute_result"
    }
   ],
   "source": [
    "mi.head(5)"
   ]
  },
  {
   "cell_type": "code",
   "execution_count": 15,
   "metadata": {},
   "outputs": [],
   "source": [
    "mi.to_csv('../csv/mi_donors_append_20210615.csv', index = False)"
   ]
  },
  {
   "cell_type": "code",
   "execution_count": null,
   "metadata": {},
   "outputs": [],
   "source": []
  }
 ],
 "metadata": {
  "kernelspec": {
   "display_name": "Python 3",
   "language": "python",
   "name": "python3"
  },
  "language_info": {
   "codemirror_mode": {
    "name": "ipython",
    "version": 3
   },
   "file_extension": ".py",
   "mimetype": "text/x-python",
   "name": "python",
   "nbconvert_exporter": "python",
   "pygments_lexer": "ipython3",
   "version": "3.7.6"
  }
 },
 "nbformat": 4,
 "nbformat_minor": 4
}
