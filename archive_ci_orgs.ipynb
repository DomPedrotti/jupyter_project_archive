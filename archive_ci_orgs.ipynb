{
 "cells": [
  {
   "cell_type": "code",
   "execution_count": 1,
   "metadata": {},
   "outputs": [],
   "source": [
    "from airflow import DAG\n",
    "from airflow.operators.postgres_operator import PostgresOperator\n",
    "from airflow.hooks.postgres_hook import PostgresHook\n",
    "from airflow.operators.python_operator import PythonOperator, BranchPythonOperator\n",
    "from airflow.operators.dummy_operator import DummyOperator\n",
    "from airflow.utils.dates import days_ago\n",
    "from datetime import datetime, timedelta\n",
    "from sqlalchemy import engine\n",
    "import pandas as pd\n",
    "\n",
    "import sys\n",
    "sys.path.append('../PyScripts/')\n",
    "import falcon_env"
   ]
  },
  {
   "cell_type": "code",
   "execution_count": 2,
   "metadata": {},
   "outputs": [],
   "source": [
    "conn = engine.create_engine(falcon_env.get_url())"
   ]
  },
  {
   "cell_type": "code",
   "execution_count": 3,
   "metadata": {},
   "outputs": [
    {
     "data": {
      "text/plain": [
       "[(UUID('384e6be7-05c9-4e0c-9aba-1ed4c55d1141'),),\n",
       " (UUID('fff4e6af-dbbb-47f5-a5ab-4748bf1732f9'),),\n",
       " (UUID('48ec9852-a07f-47d5-8421-ee4a55ed547a'),),\n",
       " (UUID('83072de8-c556-4fc6-82ab-f738d716f3e5'),),\n",
       " (UUID('2a47ef58-cedd-47cf-9539-2795dcdb9dd4'),)]"
      ]
     },
     "execution_count": 3,
     "metadata": {},
     "output_type": "execute_result"
    }
   ],
   "source": [
    "orgs = conn.execute('SELECT id FROM ci_api_organization LIMIT 5').fetchall()\n",
    "orgs"
   ]
  },
  {
   "cell_type": "code",
   "execution_count": 4,
   "metadata": {},
   "outputs": [
    {
     "name": "stdout",
     "output_type": "stream",
     "text": [
      "384e6be7-05c9-4e0c-9aba-1ed4c55d1141\n",
      "fff4e6af-dbbb-47f5-a5ab-4748bf1732f9\n",
      "48ec9852-a07f-47d5-8421-ee4a55ed547a\n",
      "83072de8-c556-4fc6-82ab-f738d716f3e5\n",
      "2a47ef58-cedd-47cf-9539-2795dcdb9dd4\n"
     ]
    }
   ],
   "source": [
    "for i in orgs:\n",
    "    print(i[0])"
   ]
  },
  {
   "cell_type": "code",
   "execution_count": 31,
   "metadata": {},
   "outputs": [
    {
     "data": {
      "text/plain": [
       "['384e6be7-05c9-4e0c-9aba-1ed4c55d1141',\n",
       " 'fff4e6af-dbbb-47f5-a5ab-4748bf1732f9',\n",
       " '48ec9852-a07f-47d5-8421-ee4a55ed547a',\n",
       " '83072de8-c556-4fc6-82ab-f738d716f3e5',\n",
       " '2a47ef58-cedd-47cf-9539-2795dcdb9dd4',\n",
       " '63726a09-a480-4643-9f80-7753519411ad',\n",
       " '16e62cf9-9f49-4bf7-a97d-ddeaf4f9ab4a',\n",
       " '8461faa3-eba3-4c43-858f-131c84cff0a7',\n",
       " '7f5b008b-0482-4513-88a4-b3a1c774a674',\n",
       " '6ce77abe-90cb-4141-abae-bbf54cb76ed9',\n",
       " '62899d06-8f2b-4ee0-912e-8b458decdd13',\n",
       " '0d5819fe-aaab-4815-8ab8-270984a77ce4',\n",
       " '544beffa-02d6-4e94-9c01-998cc54dd477',\n",
       " 'e2b636ea-b152-47f7-b4a3-0660c631aa42',\n",
       " '47e998fb-42ba-49ab-9e45-d5a8d1e0994e',\n",
       " '056fc9c5-0c5b-4f38-95c3-8d732f9321fe',\n",
       " '7fa225eb-8848-4849-8d63-c51339d7b491',\n",
       " 'dd5178ae-6067-42a5-9cd3-3623eaab1398',\n",
       " '4cdc9c6b-852a-4a43-a2e7-e2ebcfa4f274',\n",
       " 'ff36fedc-62b6-4909-b251-bf88cdd5e5d4',\n",
       " '9acf1aa8-1fc8-4321-ba35-70d42369282f',\n",
       " '8d586e14-5940-462e-8a0b-c1ccccaee9bc',\n",
       " '199d3807-030f-4188-98a5-0ee5ff9a9e25',\n",
       " 'efa4ae58-a836-40c8-8ec8-52616cc137e2',\n",
       " '8f2a35bd-2cc5-4dc5-8541-03c3b3331dc8']"
      ]
     },
     "execution_count": 31,
     "metadata": {},
     "output_type": "execute_result"
    }
   ],
   "source": [
    "archive_orgs = conn.execute('''SELECT id from ci_api_organization\n",
    "    WHERE  disabled\n",
    "      AND  archive_status is NULL''').fetchall()\n",
    "[str(i[0]) for i in archive_orgs]"
   ]
  },
  {
   "cell_type": "code",
   "execution_count": null,
   "metadata": {},
   "outputs": [],
   "source": []
  },
  {
   "cell_type": "code",
   "execution_count": 14,
   "metadata": {},
   "outputs": [],
   "source": [
    "fields = conn.execute(\n",
    "'''\n",
    "-- SELECT ARRAY_AGG(f)\n",
    "-- FROM (\n",
    "   SELECT DISTINCT jsonb_object_keys(custom_data) f\n",
    "   FROM ci_api_subscriber\n",
    "   WHERE org_id='03372cc1-28c7-4213-80d2-32880d22ba36'\n",
    "-- ) u;\n",
    "\n",
    "'''\n",
    ").fetchall()"
   ]
  },
  {
   "cell_type": "code",
   "execution_count": 15,
   "metadata": {},
   "outputs": [
    {
     "name": "stdout",
     "output_type": "stream",
     "text": [
      "custom_data ->> 'address' as address, \n",
      "custom_data ->> 'age' as age, \n",
      "custom_data ->> 'age_group' as age_group, \n",
      "custom_data ->> 'avg_amt' as avg_amt, \n",
      "custom_data ->> 'cd' as cd, \n",
      "custom_data ->> 'ci_segment' as ci_segment, \n",
      "custom_data ->> 'city' as city, \n",
      "custom_data ->> 'county' as county, \n",
      "custom_data ->> 'dob' as dob, \n",
      "custom_data ->> 'file_source' as file_source, \n",
      "custom_data ->> 'first_name' as first_name, \n",
      "custom_data ->> 'first_name_sl' as first_name_sl, \n",
      "custom_data ->> 'gender' as gender, \n",
      "custom_data ->> 'hd' as hd, \n",
      "custom_data ->> 'import_tags' as import_tags, \n",
      "custom_data ->> 'last_name' as last_name, \n",
      "custom_data ->> 'mrc_amt' as mrc_amt, \n",
      "custom_data ->> 'mrc_date' as mrc_date, \n",
      "custom_data ->> 'original_source' as original_source, \n",
      "custom_data ->> 'phone_number' as phone_number, \n",
      "custom_data ->> 'rental_id' as rental_id, \n",
      "custom_data ->> 'sd' as sd, \n",
      "custom_data ->> 'state' as state, \n",
      "custom_data ->> 'total_contributions' as total_contributions, \n",
      "custom_data ->> 'warmup_seg' as warmup_seg, \n",
      "custom_data ->> 'zip_code' as zip_code, \n",
      "\n"
     ]
    }
   ],
   "source": [
    "custom_fields = [i[0] for i in fields]\n",
    "print(''.join([f\"custom_data ->> '{i}' as {i}, \\n\" for i in custom_fields]))"
   ]
  },
  {
   "cell_type": "code",
   "execution_count": 21,
   "metadata": {},
   "outputs": [],
   "source": [
    "def get_custom_fields(org_id):\n",
    "    conn = engine.create_engine(falcon_env.get_url())\n",
    "    fields = conn.execute(\n",
    "        f'''\n",
    "           SELECT DISTINCT jsonb_object_keys(custom_data)\n",
    "           FROM ci_api_subscriber\n",
    "           WHERE org_id='{org_id}';\n",
    "        '''\n",
    "    ).fetchall()\n",
    "    custom_fields = [i[0] for i in fields]\n",
    "    return custom_fields\n",
    "\n",
    "def create_query(org_id):\n",
    "    custom_fields = get_custom_fields(org_id)\n",
    "    part_1 = 'SELECT email, \\n'\n",
    "    part_2 = ''\n",
    "    for i in custom_fields:\n",
    "        part_2 += f'''custom_data ->> '{i}' as \"{i}\", \\n'''\n",
    "    part_3 = f\"last_open, \\nlast_click,\\nlast_email \\nFROM ci_api_subscriber\\nWHERE org_id = '{org_id}';\"\n",
    "    return(part_1+part_2+part_3)"
   ]
  },
  {
   "cell_type": "code",
   "execution_count": 22,
   "metadata": {},
   "outputs": [],
   "source": [
    "query = create_query('8f2a35bd-2cc5-4dc5-8541-03c3b3331dc8')"
   ]
  },
  {
   "cell_type": "code",
   "execution_count": null,
   "metadata": {},
   "outputs": [],
   "source": []
  },
  {
   "cell_type": "code",
   "execution_count": 23,
   "metadata": {},
   "outputs": [
    {
     "name": "stdout",
     "output_type": "stream",
     "text": [
      "SELECT email, \n",
      "custom_data ->> '2020_un-seg' as \"2020_un-seg\", \n",
      "custom_data ->> 'addresd' as \"addresd\", \n",
      "custom_data ->> 'address' as \"address\", \n",
      "custom_data ->> 'address_1' as \"address_1\", \n",
      "custom_data ->> 'address_2' as \"address_2\", \n",
      "custom_data ->> 'age' as \"age\", \n",
      "custom_data ->> 'attend_church_often' as \"attend_church_often\", \n",
      "custom_data ->> 'awr_seg' as \"awr_seg\", \n",
      "custom_data ->> 'cd' as \"cd\", \n",
      "custom_data ->> 'church_donor' as \"church_donor\", \n",
      "custom_data ->> 'ci_segment' as \"ci_segment\", \n",
      "custom_data ->> 'city' as \"city\", \n",
      "custom_data ->> 'contact_id' as \"contact_id\", \n",
      "custom_data ->> 'county' as \"county\", \n",
      "custom_data ->> 'cruz_favorability' as \"cruz_favorability\", \n",
      "custom_data ->> 'data_source' as \"data_source\", \n",
      "custom_data ->> 'desantis_favorable' as \"desantis_favorable\", \n",
      "custom_data ->> 'desantis_support_head_to_head' as \"desantis_support_head_to_head\", \n",
      "custom_data ->> 'desantis_support_three_way' as \"desantis_support_three_way\", \n",
      "custom_data ->> 'dob_year' as \"dob_year\", \n",
      "custom_data ->> 'dob_yr' as \"dob_yr\", \n",
      "custom_data ->> 'donation_total' as \"donation_total\", \n",
      "custom_data ->> 'en_seg' as \"en_seg\", \n",
      "custom_data ->> 'file_source' as \"file_source\", \n",
      "custom_data ->> 'first_name' as \"first_name\", \n",
      "custom_data ->> 'first_name_sl' as \"first_name_sl\", \n",
      "custom_data ->> 'fl_cd' as \"fl_cd\", \n",
      "custom_data ->> 'free_trade_support' as \"free_trade_support\", \n",
      "custom_data ->> 'gender' as \"gender\", \n",
      "custom_data ->> 'generic_gop_support' as \"generic_gop_support\", \n",
      "custom_data ->> 'generic_r_support' as \"generic_r_support\", \n",
      "custom_data ->> 'hogan_favorable' as \"hogan_favorable\", \n",
      "custom_data ->> 'hogan_job_approve' as \"hogan_job_approve\", \n",
      "custom_data ->> 'hogan_support' as \"hogan_support\", \n",
      "custom_data ->> 'ig_id' as \"ig_id\", \n",
      "custom_data ->> 'ig_seg' as \"ig_seg\", \n",
      "custom_data ->> 'import_tags' as \"import_tags\", \n",
      "custom_data ->> 'interest_segment' as \"interest_segment\", \n",
      "custom_data ->> 'july_seg' as \"july_seg\", \n",
      "custom_data ->> 'key_code' as \"key_code\", \n",
      "custom_data ->> 'last_donation' as \"last_donation\", \n",
      "custom_data ->> 'last_name' as \"last_name\", \n",
      "custom_data ->> 'likely_crtv_subscriber' as \"likely_crtv_subscriber\", \n",
      "custom_data ->> 'likely_crtv_subscriber_0208' as \"likely_crtv_subscriber_0208\", \n",
      "custom_data ->> 'likely_crtv_subscribers' as \"likely_crtv_subscribers\", \n",
      "custom_data ->> 'likely_donate' as \"likely_donate\", \n",
      "custom_data ->> 'likely_donate_0831' as \"likely_donate_0831\", \n",
      "custom_data ->> 'likely_donate_0918' as \"likely_donate_0918\", \n",
      "custom_data ->> 'likely_donate_0919' as \"likely_donate_0919\", \n",
      "custom_data ->> 'likely_donate_mixed_0831' as \"likely_donate_mixed_0831\", \n",
      "custom_data ->> 'likely_subscriber' as \"likely_subscriber\", \n",
      "custom_data ->> 'list_seg' as \"list_seg\", \n",
      "custom_data ->> 'ny_seg' as \"ny_seg\", \n",
      "custom_data ->> 'open_segment' as \"open_segment\", \n",
      "custom_data ->> 'op_seg' as \"op_seg\", \n",
      "custom_data ->> 'phone_number' as \"phone_number\", \n",
      "custom_data ->> 'prefer_gop_gov' as \"prefer_gop_gov\", \n",
      "custom_data ->> 'pro_choice_0208' as \"pro_choice_0208\", \n",
      "custom_data ->> 'prolife_segment' as \"prolife_segment\", \n",
      "custom_data ->> 'sb_seg' as \"sb_seg\", \n",
      "custom_data ->> 'sb_source' as \"sb_source\", \n",
      "custom_data ->> 'scgop-rev_seg' as \"scgop-rev_seg\", \n",
      "custom_data ->> 'sd_seg' as \"sd_seg\", \n",
      "custom_data ->> 'sd_source' as \"sd_source\", \n",
      "custom_data ->> 'secure_border_first_support' as \"secure_border_first_support\", \n",
      "custom_data ->> 'send_seg' as \"send_seg\", \n",
      "custom_data ->> 'social_conservative_donors' as \"social_conservative_donors\", \n",
      "custom_data ->> 'social_conservative_donors_facebook' as \"social_conservative_donors_facebook\", \n",
      "custom_data ->> 'state' as \"state\", \n",
      "custom_data ->> 'strat_id' as \"strat_id\", \n",
      "custom_data ->> 'tmagac_seg' as \"tmagac_seg\", \n",
      "custom_data ->> 'total_contributions' as \"total_contributions\", \n",
      "custom_data ->> 'traditional_conservative_donors' as \"traditional_conservative_donors\", \n",
      "custom_data ->> 'trump_approve' as \"trump_approve\", \n",
      "custom_data ->> 'trump_favorability_0208' as \"trump_favorability_0208\", \n",
      "custom_data ->> 'trump_favorable' as \"trump_favorable\", \n",
      "custom_data ->> 'trump_favoraility_0208' as \"trump_favoraility_0208\", \n",
      "custom_data ->> 'trump_job_approve' as \"trump_job_approve\", \n",
      "custom_data ->> 'trump_support' as \"trump_support\", \n",
      "custom_data ->> 'uid' as \"uid\", \n",
      "custom_data ->> 'un_seg' as \"un_seg\", \n",
      "custom_data ->> 'warmup_seg' as \"warmup_seg\", \n",
      "custom_data ->> 'zip_code' as \"zip_code\", \n",
      "last_open, \n",
      "last_click,\n",
      "last_email \n",
      "FROM ci_api_subscriber\n",
      "WHERE org_id = '8f2a35bd-2cc5-4dc5-8541-03c3b3331dc8';\n"
     ]
    }
   ],
   "source": [
    "print(query)"
   ]
  },
  {
   "cell_type": "code",
   "execution_count": 25,
   "metadata": {},
   "outputs": [
    {
     "ename": "KeyboardInterrupt",
     "evalue": "",
     "output_type": "error",
     "traceback": [
      "\u001b[0;31m---------------------------------------------------------------------------\u001b[0m",
      "\u001b[0;31mKeyboardInterrupt\u001b[0m                         Traceback (most recent call last)",
      "\u001b[0;32m<ipython-input-25-3a3de1a9d3c6>\u001b[0m in \u001b[0;36m<module>\u001b[0;34m\u001b[0m\n\u001b[1;32m      3\u001b[0m     \u001b[0;34m'../csv/8f2a35bd-2cc5-4dc5-8541-03c3b3331dc8_20200923.csv.gz'\u001b[0m\u001b[0;34m,\u001b[0m\u001b[0;34m\u001b[0m\u001b[0;34m\u001b[0m\u001b[0m\n\u001b[1;32m      4\u001b[0m     \u001b[0mindex\u001b[0m\u001b[0;34m=\u001b[0m\u001b[0;32mFalse\u001b[0m\u001b[0;34m,\u001b[0m\u001b[0;34m\u001b[0m\u001b[0;34m\u001b[0m\u001b[0m\n\u001b[0;32m----> 5\u001b[0;31m     compression = \"gzip\")\n\u001b[0m",
      "\u001b[0;32m/usr/local/anaconda3/lib/python3.7/site-packages/pandas/core/generic.py\u001b[0m in \u001b[0;36mto_csv\u001b[0;34m(self, path_or_buf, sep, na_rep, float_format, columns, header, index, index_label, mode, encoding, compression, quoting, quotechar, line_terminator, chunksize, date_format, doublequote, escapechar, decimal)\u001b[0m\n\u001b[1;32m   3226\u001b[0m             \u001b[0mdecimal\u001b[0m\u001b[0;34m=\u001b[0m\u001b[0mdecimal\u001b[0m\u001b[0;34m,\u001b[0m\u001b[0;34m\u001b[0m\u001b[0;34m\u001b[0m\u001b[0m\n\u001b[1;32m   3227\u001b[0m         )\n\u001b[0;32m-> 3228\u001b[0;31m         \u001b[0mformatter\u001b[0m\u001b[0;34m.\u001b[0m\u001b[0msave\u001b[0m\u001b[0;34m(\u001b[0m\u001b[0;34m)\u001b[0m\u001b[0;34m\u001b[0m\u001b[0;34m\u001b[0m\u001b[0m\n\u001b[0m\u001b[1;32m   3229\u001b[0m \u001b[0;34m\u001b[0m\u001b[0m\n\u001b[1;32m   3230\u001b[0m         \u001b[0;32mif\u001b[0m \u001b[0mpath_or_buf\u001b[0m \u001b[0;32mis\u001b[0m \u001b[0;32mNone\u001b[0m\u001b[0;34m:\u001b[0m\u001b[0;34m\u001b[0m\u001b[0;34m\u001b[0m\u001b[0m\n",
      "\u001b[0;32m/usr/local/anaconda3/lib/python3.7/site-packages/pandas/io/formats/csvs.py\u001b[0m in \u001b[0;36msave\u001b[0;34m(self)\u001b[0m\n\u001b[1;32m    200\u001b[0m                 \u001b[0mself\u001b[0m\u001b[0;34m.\u001b[0m\u001b[0mwriter\u001b[0m \u001b[0;34m=\u001b[0m \u001b[0mUnicodeWriter\u001b[0m\u001b[0;34m(\u001b[0m\u001b[0mf\u001b[0m\u001b[0;34m,\u001b[0m \u001b[0;34m**\u001b[0m\u001b[0mwriter_kwargs\u001b[0m\u001b[0;34m)\u001b[0m\u001b[0;34m\u001b[0m\u001b[0;34m\u001b[0m\u001b[0m\n\u001b[1;32m    201\u001b[0m \u001b[0;34m\u001b[0m\u001b[0m\n\u001b[0;32m--> 202\u001b[0;31m             \u001b[0mself\u001b[0m\u001b[0;34m.\u001b[0m\u001b[0m_save\u001b[0m\u001b[0;34m(\u001b[0m\u001b[0;34m)\u001b[0m\u001b[0;34m\u001b[0m\u001b[0;34m\u001b[0m\u001b[0m\n\u001b[0m\u001b[1;32m    203\u001b[0m \u001b[0;34m\u001b[0m\u001b[0m\n\u001b[1;32m    204\u001b[0m         \u001b[0;32mfinally\u001b[0m\u001b[0;34m:\u001b[0m\u001b[0;34m\u001b[0m\u001b[0;34m\u001b[0m\u001b[0m\n",
      "\u001b[0;32m/usr/local/anaconda3/lib/python3.7/site-packages/pandas/io/formats/csvs.py\u001b[0m in \u001b[0;36m_save\u001b[0;34m(self)\u001b[0m\n\u001b[1;32m    322\u001b[0m                 \u001b[0;32mbreak\u001b[0m\u001b[0;34m\u001b[0m\u001b[0;34m\u001b[0m\u001b[0m\n\u001b[1;32m    323\u001b[0m \u001b[0;34m\u001b[0m\u001b[0m\n\u001b[0;32m--> 324\u001b[0;31m             \u001b[0mself\u001b[0m\u001b[0;34m.\u001b[0m\u001b[0m_save_chunk\u001b[0m\u001b[0;34m(\u001b[0m\u001b[0mstart_i\u001b[0m\u001b[0;34m,\u001b[0m \u001b[0mend_i\u001b[0m\u001b[0;34m)\u001b[0m\u001b[0;34m\u001b[0m\u001b[0;34m\u001b[0m\u001b[0m\n\u001b[0m\u001b[1;32m    325\u001b[0m \u001b[0;34m\u001b[0m\u001b[0m\n\u001b[1;32m    326\u001b[0m     \u001b[0;32mdef\u001b[0m \u001b[0m_save_chunk\u001b[0m\u001b[0;34m(\u001b[0m\u001b[0mself\u001b[0m\u001b[0;34m,\u001b[0m \u001b[0mstart_i\u001b[0m\u001b[0;34m,\u001b[0m \u001b[0mend_i\u001b[0m\u001b[0;34m)\u001b[0m\u001b[0;34m:\u001b[0m\u001b[0;34m\u001b[0m\u001b[0;34m\u001b[0m\u001b[0m\n",
      "\u001b[0;32m/usr/local/anaconda3/lib/python3.7/site-packages/pandas/io/formats/csvs.py\u001b[0m in \u001b[0;36m_save_chunk\u001b[0;34m(self, start_i, end_i)\u001b[0m\n\u001b[1;32m    354\u001b[0m         )\n\u001b[1;32m    355\u001b[0m \u001b[0;34m\u001b[0m\u001b[0m\n\u001b[0;32m--> 356\u001b[0;31m         \u001b[0mlibwriters\u001b[0m\u001b[0;34m.\u001b[0m\u001b[0mwrite_csv_rows\u001b[0m\u001b[0;34m(\u001b[0m\u001b[0mself\u001b[0m\u001b[0;34m.\u001b[0m\u001b[0mdata\u001b[0m\u001b[0;34m,\u001b[0m \u001b[0mix\u001b[0m\u001b[0;34m,\u001b[0m \u001b[0mself\u001b[0m\u001b[0;34m.\u001b[0m\u001b[0mnlevels\u001b[0m\u001b[0;34m,\u001b[0m \u001b[0mself\u001b[0m\u001b[0;34m.\u001b[0m\u001b[0mcols\u001b[0m\u001b[0;34m,\u001b[0m \u001b[0mself\u001b[0m\u001b[0;34m.\u001b[0m\u001b[0mwriter\u001b[0m\u001b[0;34m)\u001b[0m\u001b[0;34m\u001b[0m\u001b[0;34m\u001b[0m\u001b[0m\n\u001b[0m",
      "\u001b[0;32mpandas/_libs/writers.pyx\u001b[0m in \u001b[0;36mpandas._libs.writers.write_csv_rows\u001b[0;34m()\u001b[0m\n",
      "\u001b[0;32m/usr/local/anaconda3/lib/python3.7/gzip.py\u001b[0m in \u001b[0;36mwrite\u001b[0;34m(self, data)\u001b[0m\n\u001b[1;32m    262\u001b[0m \u001b[0;34m\u001b[0m\u001b[0m\n\u001b[1;32m    263\u001b[0m         \u001b[0;32mif\u001b[0m \u001b[0mlength\u001b[0m \u001b[0;34m>\u001b[0m \u001b[0;36m0\u001b[0m\u001b[0;34m:\u001b[0m\u001b[0;34m\u001b[0m\u001b[0;34m\u001b[0m\u001b[0m\n\u001b[0;32m--> 264\u001b[0;31m             \u001b[0mself\u001b[0m\u001b[0;34m.\u001b[0m\u001b[0mfileobj\u001b[0m\u001b[0;34m.\u001b[0m\u001b[0mwrite\u001b[0m\u001b[0;34m(\u001b[0m\u001b[0mself\u001b[0m\u001b[0;34m.\u001b[0m\u001b[0mcompress\u001b[0m\u001b[0;34m.\u001b[0m\u001b[0mcompress\u001b[0m\u001b[0;34m(\u001b[0m\u001b[0mdata\u001b[0m\u001b[0;34m)\u001b[0m\u001b[0;34m)\u001b[0m\u001b[0;34m\u001b[0m\u001b[0;34m\u001b[0m\u001b[0m\n\u001b[0m\u001b[1;32m    265\u001b[0m             \u001b[0mself\u001b[0m\u001b[0;34m.\u001b[0m\u001b[0msize\u001b[0m \u001b[0;34m+=\u001b[0m \u001b[0mlength\u001b[0m\u001b[0;34m\u001b[0m\u001b[0;34m\u001b[0m\u001b[0m\n\u001b[1;32m    266\u001b[0m             \u001b[0mself\u001b[0m\u001b[0;34m.\u001b[0m\u001b[0mcrc\u001b[0m \u001b[0;34m=\u001b[0m \u001b[0mzlib\u001b[0m\u001b[0;34m.\u001b[0m\u001b[0mcrc32\u001b[0m\u001b[0;34m(\u001b[0m\u001b[0mdata\u001b[0m\u001b[0;34m,\u001b[0m \u001b[0mself\u001b[0m\u001b[0;34m.\u001b[0m\u001b[0mcrc\u001b[0m\u001b[0;34m)\u001b[0m\u001b[0;34m\u001b[0m\u001b[0;34m\u001b[0m\u001b[0m\n",
      "\u001b[0;31mKeyboardInterrupt\u001b[0m: "
     ]
    }
   ],
   "source": [
    "df = pd.read_sql(query, con = conn)\n",
    "df.to_csv(\n",
    "    '../csv/8f2a35bd-2cc5-4dc5-8541-03c3b3331dc8_20200923.csv.gz',\n",
    "    index=False,\n",
    "    compression = \"gzip\")"
   ]
  },
  {
   "cell_type": "code",
   "execution_count": 28,
   "metadata": {},
   "outputs": [],
   "source": [
    "df.to_csv(\n",
    "    '../csv/8f2a35bd-2cc5-4dc5-8541-03c3b3331dc8_20200923.csv.gz',\n",
    "    index=False,\n",
    "    compression = \"gzip\")"
   ]
  },
  {
   "cell_type": "code",
   "execution_count": 29,
   "metadata": {},
   "outputs": [
    {
     "data": {
      "text/plain": [
       "(6134396, 87)"
      ]
     },
     "execution_count": 29,
     "metadata": {},
     "output_type": "execute_result"
    }
   ],
   "source": [
    "df.shape"
   ]
  },
  {
   "cell_type": "code",
   "execution_count": 18,
   "metadata": {},
   "outputs": [],
   "source": [
    "def fetch_subscriber_data(org_id, custom_data, connection):\n",
    "    print(f'{org_id}: Fetching subscriber data...')\n",
    "    custom_selects = ''.join([f\"custom_data ->> '{i}' as {i}, \\n        \" for i in custom_data])\n",
    "\n",
    "    query = f'''\n",
    "    SELECT \n",
    "        email,\n",
    "        {custom_selects}\n",
    "        last_open,\n",
    "        last_delivered,\n",
    "        last_email\n",
    "    FROM ci_api_subscriber\n",
    "    WHERE org_id = '{org_id}'\n",
    "    '''\n",
    "    print(query)"
   ]
  },
  {
   "cell_type": "code",
   "execution_count": 19,
   "metadata": {},
   "outputs": [
    {
     "name": "stdout",
     "output_type": "stream",
     "text": [
      "03372cc1-28c7-4213-80d2-32880d22ba36: Fetching subscriber data...\n",
      "\n",
      "    SELECT \n",
      "        email,\n",
      "        custom_data ->> 'address' as address, \n",
      "        custom_data ->> 'age' as age, \n",
      "        custom_data ->> 'age_group' as age_group, \n",
      "        custom_data ->> 'avg_amt' as avg_amt, \n",
      "        custom_data ->> 'cd' as cd, \n",
      "        custom_data ->> 'ci_segment' as ci_segment, \n",
      "        custom_data ->> 'city' as city, \n",
      "        custom_data ->> 'county' as county, \n",
      "        custom_data ->> 'dob' as dob, \n",
      "        custom_data ->> 'file_source' as file_source, \n",
      "        custom_data ->> 'first_name' as first_name, \n",
      "        custom_data ->> 'first_name_sl' as first_name_sl, \n",
      "        custom_data ->> 'gender' as gender, \n",
      "        custom_data ->> 'hd' as hd, \n",
      "        custom_data ->> 'import_tags' as import_tags, \n",
      "        custom_data ->> 'last_name' as last_name, \n",
      "        custom_data ->> 'mrc_amt' as mrc_amt, \n",
      "        custom_data ->> 'mrc_date' as mrc_date, \n",
      "        custom_data ->> 'original_source' as original_source, \n",
      "        custom_data ->> 'phone_number' as phone_number, \n",
      "        custom_data ->> 'rental_id' as rental_id, \n",
      "        custom_data ->> 'sd' as sd, \n",
      "        custom_data ->> 'state' as state, \n",
      "        custom_data ->> 'total_contributions' as total_contributions, \n",
      "        custom_data ->> 'warmup_seg' as warmup_seg, \n",
      "        custom_data ->> 'zip_code' as zip_code, \n",
      "        \n",
      "        last_open,\n",
      "        last_delivered,\n",
      "        last_email\n",
      "    FROM ci_api_subscriber\n",
      "    WHERE org_id = '03372cc1-28c7-4213-80d2-32880d22ba36'\n",
      "    \n"
     ]
    }
   ],
   "source": [
    "fetch_subscriber_data('03372cc1-28c7-4213-80d2-32880d22ba36', custom_fields, 'con')"
   ]
  },
  {
   "cell_type": "code",
   "execution_count": null,
   "metadata": {},
   "outputs": [],
   "source": []
  }
 ],
 "metadata": {
  "kernelspec": {
   "display_name": "Python 3",
   "language": "python",
   "name": "python3"
  },
  "language_info": {
   "codemirror_mode": {
    "name": "ipython",
    "version": 3
   },
   "file_extension": ".py",
   "mimetype": "text/x-python",
   "name": "python",
   "nbconvert_exporter": "python",
   "pygments_lexer": "ipython3",
   "version": "3.7.6"
  }
 },
 "nbformat": 4,
 "nbformat_minor": 4
}
